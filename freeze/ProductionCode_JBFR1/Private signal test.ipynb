{
 "metadata": {
  "name": "Private signal test"
 },
 "nbformat": 3,
 "nbformat_minor": 0,
 "worksheets": [
  {
   "cells": [
    {
     "cell_type": "code",
     "collapsed": false,
     "input": [
      "import numpy as np\n",
      "import scipy.stats as stats\n",
      "import matplotlib.pylab as pl\n",
      "import networkx as nx\n",
      "\n",
      "def gen_private_belief(mu0,s0,mu1,s1,signal):\n",
      "    f0 = stats.norm.pdf(signal,mu0,s0)\n",
      "    f1 = stats.norm.pdf(signal,mu1,s1)\n",
      "    \n",
      "    p = 1./(1 + f0/f1)\n",
      "\n",
      "    return p\n",
      "    \n",
      "mu0 = 0.4\n",
      "s0 = np.sqrt(0.1)\n",
      "mu1 = 0.6\n",
      "s1 = np.sqrt(0.1)"
     ],
     "language": "python",
     "metadata": {},
     "outputs": [],
     "prompt_number": 19
    },
    {
     "cell_type": "markdown",
     "metadata": {},
     "source": [
      "Assume we are in state 0"
     ]
    },
    {
     "cell_type": "code",
     "collapsed": false,
     "input": [
      "N = 1000\n",
      "signal = np.random.normal(mu0,s0,N)\n",
      "p = gen_private_belief(mu0,s0,mu1,s1,signal)\n",
      "pl.hist(signal)\n",
      "pl.hist(p)"
     ],
     "language": "python",
     "metadata": {},
     "outputs": [
      {
       "output_type": "pyout",
       "prompt_number": 8,
       "text": [
        "(array([ 11,  46, 125, 173, 205, 177, 138,  76,  43,   6]),\n",
        " array([ 0.08149836,  0.15915781,  0.23681725,  0.31447669,  0.39213614,\n",
        "        0.46979558,  0.54745502,  0.62511446,  0.70277391,  0.78043335,\n",
        "        0.85809279]),\n",
        " <a list of 10 Patch objects>)"
       ]
      },
      {
       "output_type": "display_data",
       "png": "[encoded data removed]",
       "text": [
        "<matplotlib.figure.Figure at 0x10b428d50>"
       ]
      }
     ],
     "prompt_number": 8
    },
    {
     "cell_type": "code",
     "collapsed": false,
     "input": [
      "def main(rho = 0.1):\n",
      "    N = 20\n",
      "    rho = rho\n",
      "    x = np.zeros((N,1))\n",
      "    x[:,0] = np.random.binomial(1,0.5,N)\n",
      "    p = np.zeros((N,1))\n",
      "    G = nx.erdos_renyi_graph(N, rho)\n",
      "    A = nx.adjacency_matrix(G)\n",
      "    its = 100\n",
      "    for i in range(its):\n",
      "        k = np.sum(A,axis=1)\n",
      "        k_alt = np.copy(k)\n",
      "        k[k == 0] = 1\n",
      "        q = A.dot(x)/k\n",
      "        signal = np.random.normal(mu0,s0,N)\n",
      "        p[:,0] = gen_private_belief(mu0,s0,mu1,s1,signal)\n",
      "        z = 0.5*(p + q)\n",
      "        x = np.around(0.5*(p + q))\n",
      "        x[k_alt == 0] = np.around(p[k_alt == 0])\n",
      "    \n",
      "    return x\n",
      "\n"
     ],
     "language": "python",
     "metadata": {},
     "outputs": [],
     "prompt_number": 134
    },
    {
     "cell_type": "code",
     "collapsed": false,
     "input": [
      "rhos = np.linspace(0,0.5,num=10)\n",
      "runs = 100\n",
      "seeds = np.arange(1,runs+1)\n",
      "\n",
      "x_m = np.zeros((len(rhos),runs))\n",
      "\n",
      "for i in range(len(rhos)):\n",
      "    for j in range(runs):\n",
      "        np.random.seed(seeds[j])\n",
      "        x = main(rho = rhos[i])\n",
      "        x_m[i,j] = np.mean(x)"
     ],
     "language": "python",
     "metadata": {},
     "outputs": [],
     "prompt_number": 135
    },
    {
     "cell_type": "code",
     "collapsed": false,
     "input": [
      "#pl.plot(rhos,x_m)\n",
      "pl.hist(np.reshape(x_m,(runs*len(rhos),1)))"
     ],
     "language": "python",
     "metadata": {},
     "outputs": [
      {
       "output_type": "pyout",
       "prompt_number": 133,
       "text": [
        "(array([625,  45,  69,  19,  49,  45,  11,   1,   5, 131]),\n",
        " array([ 0. ,  0.1,  0.2,  0.3,  0.4,  0.5,  0.6,  0.7,  0.8,  0.9,  1. ]),\n",
        " <a list of 10 Patch objects>)"
       ]
      },
      {
       "output_type": "display_data",
       "png": "[encoded data removed]",
       "text": [
        "<matplotlib.figure.Figure at 0x10d734b90>"
       ]
      }
     ],
     "prompt_number": 133
    },
    {
     "cell_type": "code",
     "collapsed": false,
     "input": [
      "pl.hist(np.reshape(x_m,(runs*len(rhos),1)))\n"
     ],
     "language": "python",
     "metadata": {},
     "outputs": [
      {
       "output_type": "pyout",
       "prompt_number": 136,
       "text": [
        "(array([767,  38,  34,  12,  15,   6,   2,   1,   5, 120]),\n",
        " array([ 0. ,  0.1,  0.2,  0.3,  0.4,  0.5,  0.6,  0.7,  0.8,  0.9,  1. ]),\n",
        " <a list of 10 Patch objects>)"
       ]
      },
      {
       "output_type": "display_data",
       "png": "[encoded data removed]",
       "text": [
        "<matplotlib.figure.Figure at 0x10d7a2c50>"
       ]
      }
     ],
     "prompt_number": 136
    },
    {
     "cell_type": "code",
     "collapsed": false,
     "input": [],
     "language": "python",
     "metadata": {},
     "outputs": [],
     "prompt_number": 112
    },
    {
     "cell_type": "code",
     "collapsed": false,
     "input": [
      "p = stats.norm.pdf([-100,0],[0,0.1],[0.1,0.2])\n",
      "print(p)"
     ],
     "language": "python",
     "metadata": {},
     "outputs": [
      {
       "output_type": "stream",
       "stream": "stdout",
       "text": [
        "[ 0.          1.76032663]\n"
       ]
      }
     ],
     "prompt_number": 9
    },
    {
     "cell_type": "code",
     "collapsed": false,
     "input": [
      "p = stats.norm.pdf(-100,0,0.1)\n",
      "print(p)"
     ],
     "language": "python",
     "metadata": {},
     "outputs": [
      {
       "output_type": "stream",
       "stream": "stdout",
       "text": [
        "0.0\n"
       ]
      }
     ],
     "prompt_number": 18
    },
    {
     "cell_type": "code",
     "collapsed": false,
     "input": [
      "G = nx.erdos_renyi_graph(100, 0.05)\n",
      "pl.plot(nx.degree_histogram(G))"
     ],
     "language": "python",
     "metadata": {},
     "outputs": [
      {
       "ename": "AttributeError",
       "evalue": "'module' object has no attribute 'plot'",
       "output_type": "pyerr",
       "traceback": [
        "\u001b[0;31m---------------------------------------------------------------------------\u001b[0m\n\u001b[0;31mAttributeError\u001b[0m                            Traceback (most recent call last)",
        "\u001b[0;32m<ipython-input-22-0b80d3c3493d>\u001b[0m in \u001b[0;36m<module>\u001b[0;34m()\u001b[0m\n\u001b[1;32m      1\u001b[0m \u001b[0mG\u001b[0m \u001b[0;34m=\u001b[0m \u001b[0mnx\u001b[0m\u001b[0;34m.\u001b[0m\u001b[0merdos_renyi_graph\u001b[0m\u001b[0;34m(\u001b[0m\u001b[0;36m100\u001b[0m\u001b[0;34m,\u001b[0m \u001b[0;36m0.05\u001b[0m\u001b[0;34m)\u001b[0m\u001b[0;34m\u001b[0m\u001b[0m\n\u001b[0;32m----> 2\u001b[0;31m \u001b[0mnp\u001b[0m\u001b[0;34m.\u001b[0m\u001b[0mplot\u001b[0m\u001b[0;34m(\u001b[0m\u001b[0mnx\u001b[0m\u001b[0;34m.\u001b[0m\u001b[0mdegree_histogram\u001b[0m\u001b[0;34m(\u001b[0m\u001b[0mG\u001b[0m\u001b[0;34m)\u001b[0m\u001b[0;34m)\u001b[0m\u001b[0;34m\u001b[0m\u001b[0m\n\u001b[0m",
        "\u001b[0;31mAttributeError\u001b[0m: 'module' object has no attribute 'plot'"
       ]
      }
     ],
     "prompt_number": 22
    },
    {
     "cell_type": "code",
     "collapsed": false,
     "input": [],
     "language": "python",
     "metadata": {},
     "outputs": []
    }
   ],
   "metadata": {}
  }
 ]
}